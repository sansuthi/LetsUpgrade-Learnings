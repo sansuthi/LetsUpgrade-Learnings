{
 "cells": [
  {
   "cell_type": "markdown",
   "metadata": {},
   "source": [
    "# _Data Visualization using Python_\n",
    "# _Topic: Assignment 2_\n",
    "## _Author: SANDHYA S_\n",
    "## _Date: 11 July '21_\n",
    "---"
   ]
  },
  {
   "cell_type": "markdown",
   "metadata": {},
   "source": [
    "### 1. Create a dataframe with 10 rows on random numbers and 4 columns, (columns labelled as a,b,c,d) and plot a bar chart."
   ]
  },
  {
   "cell_type": "code",
   "execution_count": 1,
   "metadata": {},
   "outputs": [],
   "source": [
    "from numpy.random import randn\n",
    "import pandas as pd\n",
    "import matplotlib.pyplot as plt"
   ]
  },
  {
   "cell_type": "code",
   "execution_count": 2,
   "metadata": {},
   "outputs": [
    {
     "data": {
      "text/html": [
       "<div>\n",
       "<style scoped>\n",
       "    .dataframe tbody tr th:only-of-type {\n",
       "        vertical-align: middle;\n",
       "    }\n",
       "\n",
       "    .dataframe tbody tr th {\n",
       "        vertical-align: top;\n",
       "    }\n",
       "\n",
       "    .dataframe thead th {\n",
       "        text-align: right;\n",
       "    }\n",
       "</style>\n",
       "<table border=\"1\" class=\"dataframe\">\n",
       "  <thead>\n",
       "    <tr style=\"text-align: right;\">\n",
       "      <th></th>\n",
       "      <th>a</th>\n",
       "      <th>b</th>\n",
       "      <th>c</th>\n",
       "      <th>d</th>\n",
       "    </tr>\n",
       "  </thead>\n",
       "  <tbody>\n",
       "    <tr>\n",
       "      <th>0</th>\n",
       "      <td>0.046960</td>\n",
       "      <td>1.582221</td>\n",
       "      <td>2.252228</td>\n",
       "      <td>0.682951</td>\n",
       "    </tr>\n",
       "    <tr>\n",
       "      <th>1</th>\n",
       "      <td>-1.311745</td>\n",
       "      <td>-0.284608</td>\n",
       "      <td>-1.976878</td>\n",
       "      <td>-0.910982</td>\n",
       "    </tr>\n",
       "    <tr>\n",
       "      <th>2</th>\n",
       "      <td>1.208840</td>\n",
       "      <td>-1.481595</td>\n",
       "      <td>-0.500323</td>\n",
       "      <td>-0.545055</td>\n",
       "    </tr>\n",
       "    <tr>\n",
       "      <th>3</th>\n",
       "      <td>1.415605</td>\n",
       "      <td>-0.552652</td>\n",
       "      <td>-0.252652</td>\n",
       "      <td>2.272306</td>\n",
       "    </tr>\n",
       "    <tr>\n",
       "      <th>4</th>\n",
       "      <td>0.353060</td>\n",
       "      <td>-0.243278</td>\n",
       "      <td>-0.071950</td>\n",
       "      <td>-0.599027</td>\n",
       "    </tr>\n",
       "    <tr>\n",
       "      <th>5</th>\n",
       "      <td>0.755928</td>\n",
       "      <td>0.917522</td>\n",
       "      <td>1.131236</td>\n",
       "      <td>2.119736</td>\n",
       "    </tr>\n",
       "    <tr>\n",
       "      <th>6</th>\n",
       "      <td>0.657272</td>\n",
       "      <td>0.315809</td>\n",
       "      <td>-0.930746</td>\n",
       "      <td>1.107715</td>\n",
       "    </tr>\n",
       "    <tr>\n",
       "      <th>7</th>\n",
       "      <td>-0.228975</td>\n",
       "      <td>1.104388</td>\n",
       "      <td>-0.395531</td>\n",
       "      <td>-0.798940</td>\n",
       "    </tr>\n",
       "    <tr>\n",
       "      <th>8</th>\n",
       "      <td>-0.181113</td>\n",
       "      <td>0.263043</td>\n",
       "      <td>0.406076</td>\n",
       "      <td>-0.367617</td>\n",
       "    </tr>\n",
       "    <tr>\n",
       "      <th>9</th>\n",
       "      <td>2.052535</td>\n",
       "      <td>0.551100</td>\n",
       "      <td>-0.227434</td>\n",
       "      <td>-0.282322</td>\n",
       "    </tr>\n",
       "  </tbody>\n",
       "</table>\n",
       "</div>"
      ],
      "text/plain": [
       "          a         b         c         d\n",
       "0  0.046960  1.582221  2.252228  0.682951\n",
       "1 -1.311745 -0.284608 -1.976878 -0.910982\n",
       "2  1.208840 -1.481595 -0.500323 -0.545055\n",
       "3  1.415605 -0.552652 -0.252652  2.272306\n",
       "4  0.353060 -0.243278 -0.071950 -0.599027\n",
       "5  0.755928  0.917522  1.131236  2.119736\n",
       "6  0.657272  0.315809 -0.930746  1.107715\n",
       "7 -0.228975  1.104388 -0.395531 -0.798940\n",
       "8 -0.181113  0.263043  0.406076 -0.367617\n",
       "9  2.052535  0.551100 -0.227434 -0.282322"
      ]
     },
     "execution_count": 2,
     "metadata": {},
     "output_type": "execute_result"
    }
   ],
   "source": [
    "data = pd.DataFrame(randn(10, 4), columns=['a', 'b', 'c', 'd'])\n",
    "data"
   ]
  },
  {
   "cell_type": "code",
   "execution_count": 3,
   "metadata": {},
   "outputs": [
    {
     "data": {
      "image/png": "[encoded data removed]",
      "text/plain": [
       "<Figure size 1080x504 with 1 Axes>"
      ]
     },
     "metadata": {
      "needs_background": "light"
     },
     "output_type": "display_data"
    }
   ],
   "source": [
    "data.plot.bar(figsize=(15,7), width=0.8)\n",
    "plt.xlabel('INDEX', fontsize=15)\n",
    "plt.show()"
   ]
  },
  {
   "cell_type": "markdown",
   "metadata": {},
   "source": [
    "---\n",
    "## _Thank You!_"
   ]
  }
 ],
 "metadata": {
  "kernelspec": {
   "display_name": "Python 3",
   "language": "python",
   "name": "python3"
  },
  "language_info": {
   "codemirror_mode": {
    "name": "ipython",
    "version": 3
   },
   "file_extension": ".py",
   "mimetype": "text/x-python",
   "name": "python",
   "nbconvert_exporter": "python",
   "pygments_lexer": "ipython3",
   "version": "3.8.5"
  }
 },
 "nbformat": 4,
 "nbformat_minor": 4
}
