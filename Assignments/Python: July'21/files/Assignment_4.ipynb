{
 "cells": [
  {
   "cell_type": "markdown",
   "metadata": {},
   "source": [
    "## _Python Essentials: Assignment 4_\n",
    "### _Author: SANDHYA S_\n",
    "### _Date: 01 August '21_\n",
    "---"
   ]
  },
  {
   "cell_type": "markdown",
   "metadata": {},
   "source": [
    "#### PROBLEM:\n",
    "Hey you are a chemist from India and you work with degree celsius in your day to day life but due to a project your company had collaborated with a MNC company, where the chemists use degree frainite for their purposes, and to maintain collaboration consistent we want to have a easy degree conversion, \n",
    "\n",
    "Please develop a python based degree converter which takes °C value and give you output of °F \n",
    "\n",
    "Input - °C -> 50\n",
    "\n",
    "Output - °F -> 122 \n",
    "\n",
    "\n",
    "Formula for Conversion :\n",
    "**( ___°C × 9/5 ) + 32 = ___°F**"
   ]
  },
  {
   "cell_type": "code",
   "execution_count": 1,
   "metadata": {},
   "outputs": [],
   "source": [
    "def temp_conv(celcius):\n",
    "    fahrenheit = (celcius*9/5) + 32\n",
    "    print(f'{celcius}°C = {fahrenheit}°F')"
   ]
  },
  {
   "cell_type": "code",
   "execution_count": 2,
   "metadata": {},
   "outputs": [
    {
     "name": "stdout",
     "output_type": "stream",
     "text": [
      "50°C = 122.0°F\n"
     ]
    }
   ],
   "source": [
    "temp_conv(50)"
   ]
  },
  {
   "cell_type": "code",
   "execution_count": 3,
   "metadata": {},
   "outputs": [
    {
     "name": "stdout",
     "output_type": "stream",
     "text": [
      "12°C = 53.6°F\n"
     ]
    }
   ],
   "source": [
    "temp_conv(12)"
   ]
  },
  {
   "cell_type": "code",
   "execution_count": 4,
   "metadata": {},
   "outputs": [
    {
     "name": "stdout",
     "output_type": "stream",
     "text": [
      "0°C = 32.0°F\n"
     ]
    }
   ],
   "source": [
    "temp_conv(0)"
   ]
  },
  {
   "cell_type": "code",
   "execution_count": 5,
   "metadata": {},
   "outputs": [
    {
     "name": "stdout",
     "output_type": "stream",
     "text": [
      "-27°C = -16.6°F\n"
     ]
    }
   ],
   "source": [
    "temp_conv(-27)"
   ]
  },
  {
   "cell_type": "code",
   "execution_count": 6,
   "metadata": {},
   "outputs": [
    {
     "name": "stdout",
     "output_type": "stream",
     "text": [
      "-40°C = -40.0°F\n"
     ]
    }
   ],
   "source": [
    "temp_conv(-40)"
   ]
  },
  {
   "cell_type": "markdown",
   "metadata": {},
   "source": [
    "---"
   ]
  }
 ],
 "metadata": {
  "kernelspec": {
   "display_name": "Python 3",
   "language": "python",
   "name": "python3"
  },
  "language_info": {
   "codemirror_mode": {
    "name": "ipython",
    "version": 3
   },
   "file_extension": ".py",
   "mimetype": "text/x-python",
   "name": "python",
   "nbconvert_exporter": "python",
   "pygments_lexer": "ipython3",
   "version": "3.8.5"
  }
 },
 "nbformat": 4,
 "nbformat_minor": 4
}
