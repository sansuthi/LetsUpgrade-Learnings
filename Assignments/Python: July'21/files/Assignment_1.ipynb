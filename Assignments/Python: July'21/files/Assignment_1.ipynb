{
 "cells": [
  {
   "cell_type": "markdown",
   "metadata": {},
   "source": [
    "## _Python Essentials: Assignment 1_\n",
    "### _Author: SANDHYA S_\n",
    "### _Date: 28 July '21_\n",
    "---"
   ]
  },
  {
   "cell_type": "markdown",
   "metadata": {},
   "source": [
    "### 1. Take input for a list and sort it in descending order"
   ]
  },
  {
   "cell_type": "code",
   "execution_count": 1,
   "metadata": {},
   "outputs": [
    {
     "name": "stdout",
     "output_type": "stream",
     "text": [
      "Enter values: 12 67 43 39 85 27 54 71 98\n"
     ]
    }
   ],
   "source": [
    "values = [int(x) for x in input('Enter values: ').split()]"
   ]
  },
  {
   "cell_type": "code",
   "execution_count": 2,
   "metadata": {},
   "outputs": [
    {
     "name": "stdout",
     "output_type": "stream",
     "text": [
      "Original List: [12, 67, 43, 39, 85, 27, 54, 71, 98]\n",
      "Sorted List: [98, 85, 71, 67, 54, 43, 39, 27, 12]\n"
     ]
    }
   ],
   "source": [
    "print('Original List:', values)\n",
    "values.sort()\n",
    "values.reverse()\n",
    "print('Sorted List:', values)"
   ]
  },
  {
   "cell_type": "markdown",
   "metadata": {},
   "source": [
    "---"
   ]
  }
 ],
 "metadata": {
  "kernelspec": {
   "display_name": "Python 3",
   "language": "python",
   "name": "python3"
  },
  "language_info": {
   "codemirror_mode": {
    "name": "ipython",
    "version": 3
   },
   "file_extension": ".py",
   "mimetype": "text/x-python",
   "name": "python",
   "nbconvert_exporter": "python",
   "pygments_lexer": "ipython3",
   "version": "3.8.5"
  }
 },
 "nbformat": 4,
 "nbformat_minor": 4
}
