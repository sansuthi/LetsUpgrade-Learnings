{
 "cells": [
  {
   "cell_type": "markdown",
   "metadata": {},
   "source": [
    "## _Python Essentials: Assignment 2_\n",
    "### _Author: SANDHYA S_\n",
    "### _Date: 01 August '21_\n",
    "---"
   ]
  },
  {
   "cell_type": "markdown",
   "metadata": {},
   "source": [
    "### 1. Delete all occurrences of an element in a list  "
   ]
  },
  {
   "cell_type": "code",
   "execution_count": 1,
   "metadata": {},
   "outputs": [
    {
     "name": "stdout",
     "output_type": "stream",
     "text": [
      "Enter Values: 9 3 2 2 3 7 8 3 1 6 5 4\n",
      "Enter the element to be deleted: 3\n"
     ]
    }
   ],
   "source": [
    "lis = list(map(int, input('Enter Values: ').split()))\n",
    "value = int(input('Enter the element to be deleted: '))"
   ]
  },
  {
   "cell_type": "code",
   "execution_count": 2,
   "metadata": {},
   "outputs": [
    {
     "name": "stdout",
     "output_type": "stream",
     "text": [
      "Original List:  [9, 3, 2, 2, 3, 7, 8, 3, 1, 6, 5, 4]\n",
      "List after removing 3: [9, 2, 2, 7, 8, 1, 6, 5, 4]\n"
     ]
    }
   ],
   "source": [
    "print('Original List: ', lis)\n",
    "for _ in range(lis.count(value)):\n",
    "    lis.remove(value)\n",
    "print(f'List after removing {value}: {lis}')"
   ]
  },
  {
   "cell_type": "markdown",
   "metadata": {},
   "source": [
    "### 2. Check whether a string is a pangram."
   ]
  },
  {
   "cell_type": "code",
   "execution_count": 3,
   "metadata": {},
   "outputs": [],
   "source": [
    "def is_pangram(string):\n",
    "    a , z = 97, 122\n",
    "    count = 0\n",
    "    for i in range(a, z+1):\n",
    "        if chr(i) in list(string.lower()):\n",
    "            count += 1\n",
    "    if count == 26:\n",
    "        print(f'\"{string}\" is a Pangram')\n",
    "    else:\n",
    "        print(f'\"{string}\" is not a Pangram')"
   ]
  },
  {
   "cell_type": "code",
   "execution_count": 4,
   "metadata": {},
   "outputs": [
    {
     "name": "stdout",
     "output_type": "stream",
     "text": [
      "\"The quick brown fox jumps over the lazy dog\" is a Pangram\n"
     ]
    }
   ],
   "source": [
    "is_pangram('The quick brown fox jumps over the lazy dog')"
   ]
  },
  {
   "cell_type": "code",
   "execution_count": 5,
   "metadata": {},
   "outputs": [
    {
     "name": "stdout",
     "output_type": "stream",
     "text": [
      "\"Python Programming\" is not a Pangram\n"
     ]
    }
   ],
   "source": [
    "is_pangram('Python Programming')"
   ]
  },
  {
   "cell_type": "markdown",
   "metadata": {},
   "source": [
    "---"
   ]
  }
 ],
 "metadata": {
  "kernelspec": {
   "display_name": "Python 3",
   "language": "python",
   "name": "python3"
  },
  "language_info": {
   "codemirror_mode": {
    "name": "ipython",
    "version": 3
   },
   "file_extension": ".py",
   "mimetype": "text/x-python",
   "name": "python",
   "nbconvert_exporter": "python",
   "pygments_lexer": "ipython3",
   "version": "3.8.5"
  }
 },
 "nbformat": 4,
 "nbformat_minor": 4
}
