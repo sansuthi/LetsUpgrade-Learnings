{
 "cells": [
  {
   "cell_type": "markdown",
   "metadata": {},
   "source": [
    "## _Python Essentials: Assignment 3_\n",
    "### _Author: SANDHYA S_\n",
    "### _Date: 01 August '21_\n",
    "---"
   ]
  },
  {
   "cell_type": "markdown",
   "metadata": {},
   "source": [
    "#### PROBLEM:\n",
    "Consider a person is represented by Pi, where i is the index of the following list.  \n",
    "A list shows the person to whom person Pi has given the gift.  \n",
    " \n",
    "Consider the below example:  \n",
    "gift_presented_to = [2, 1, 5, 3, 4]  \n",
    " \n",
    "This list is giving us the following details:  \n",
    "Person P1 has given gift to person P2  \n",
    "Person P2 has given gift to person P1  \n",
    "Person P3 has given gift to person P5  \n",
    "Person P4 has given gift to person P3  \n",
    "Person P5 has given gift to person P4  \n",
    " \n",
    "So for the given list, the list of persons from whom they have received the gift would be  \n",
    "gift_received_from = [2, 1, 4, 5, 3]  \n",
    " \n",
    "i.e.  \n",
    "Person P1 has received gift from person P2  \n",
    "Person P2 has received gift from person P1  \n",
    "Person P3 has received gift from person P4  \n",
    "Person P4 has received gift from person P5  \n",
    "Person P5 has received gift from person P3  \n",
    "\n",
    "### TASK:\n",
    "  \n",
    "Take input for the gift_presented_to[] list and print its respective gift_received_from[] list.  \n"
   ]
  },
  {
   "cell_type": "code",
   "execution_count": 1,
   "metadata": {},
   "outputs": [
    {
     "name": "stdout",
     "output_type": "stream",
     "text": [
      "Enter the order of gifts given: 2 4 6 1 3 7 5\n"
     ]
    }
   ],
   "source": [
    "gift_presented_to = list(map(int, input('Enter the order of gifts given: ').split()))"
   ]
  },
  {
   "cell_type": "code",
   "execution_count": 2,
   "metadata": {},
   "outputs": [
    {
     "name": "stdout",
     "output_type": "stream",
     "text": [
      "Person P1 has given gift to person P2\n",
      "Person P2 has given gift to person P4\n",
      "Person P3 has given gift to person P6\n",
      "Person P4 has given gift to person P1\n",
      "Person P5 has given gift to person P3\n",
      "Person P6 has given gift to person P7\n",
      "Person P7 has given gift to person P5\n"
     ]
    }
   ],
   "source": [
    "for i in range(len(gift_presented_to)):\n",
    "    print(f'Person P{i+1} has given gift to person P{gift_presented_to[i]}')"
   ]
  },
  {
   "cell_type": "code",
   "execution_count": 3,
   "metadata": {},
   "outputs": [
    {
     "name": "stdout",
     "output_type": "stream",
     "text": [
      "[4, 1, 5, 2, 7, 3, 6]\n"
     ]
    }
   ],
   "source": [
    "gift_received_from = []\n",
    "for i in range(1, len(gift_presented_to)+1):\n",
    "    gift_received_from.append(gift_presented_to.index(i)+1)\n",
    "print(gift_received_from)"
   ]
  },
  {
   "cell_type": "code",
   "execution_count": 4,
   "metadata": {},
   "outputs": [
    {
     "name": "stdout",
     "output_type": "stream",
     "text": [
      "Person P1 has received gift from person P4\n",
      "Person P2 has received gift from person P1\n",
      "Person P3 has received gift from person P5\n",
      "Person P4 has received gift from person P2\n",
      "Person P5 has received gift from person P7\n",
      "Person P6 has received gift from person P3\n",
      "Person P7 has received gift from person P6\n"
     ]
    }
   ],
   "source": [
    "for i in range(len(gift_received_from)):\n",
    "    print(f'Person P{i+1} has received gift from person P{gift_received_from[i]}')"
   ]
  },
  {
   "cell_type": "markdown",
   "metadata": {},
   "source": [
    "---"
   ]
  }
 ],
 "metadata": {
  "kernelspec": {
   "display_name": "Python 3",
   "language": "python",
   "name": "python3"
  },
  "language_info": {
   "codemirror_mode": {
    "name": "ipython",
    "version": 3
   },
   "file_extension": ".py",
   "mimetype": "text/x-python",
   "name": "python",
   "nbconvert_exporter": "python",
   "pygments_lexer": "ipython3",
   "version": "3.8.5"
  }
 },
 "nbformat": 4,
 "nbformat_minor": 4
}
